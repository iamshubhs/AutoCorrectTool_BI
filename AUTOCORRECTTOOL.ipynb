{
 "cells": [
  {
   "cell_type": "code",
   "execution_count": 1,
   "id": "feb06ddc",
   "metadata": {},
   "outputs": [
    {
     "name": "stdout",
     "output_type": "stream",
     "text": [
      "Requirement already satisfied: nltk in c:\\users\\anisha.jha\\appdata\\local\\anaconda3\\lib\\site-packages (3.7)\n",
      "Requirement already satisfied: joblib in c:\\users\\anisha.jha\\appdata\\local\\anaconda3\\lib\\site-packages (from nltk) (1.1.1)\n",
      "Requirement already satisfied: tqdm in c:\\users\\anisha.jha\\appdata\\local\\anaconda3\\lib\\site-packages (from nltk) (4.64.1)\n",
      "Requirement already satisfied: click in c:\\users\\anisha.jha\\appdata\\local\\anaconda3\\lib\\site-packages (from nltk) (8.0.4)\n",
      "Requirement already satisfied: regex>=2021.8.3 in c:\\users\\anisha.jha\\appdata\\local\\anaconda3\\lib\\site-packages (from nltk) (2022.7.9)\n",
      "Requirement already satisfied: colorama in c:\\users\\anisha.jha\\appdata\\local\\anaconda3\\lib\\site-packages (from click->nltk) (0.4.6)\n"
     ]
    }
   ],
   "source": [
    "!pip install nltk\n"
   ]
  },
  {
   "cell_type": "code",
   "execution_count": 2,
   "id": "9d1c5808",
   "metadata": {},
   "outputs": [
    {
     "name": "stderr",
     "output_type": "stream",
     "text": [
      "[nltk_data] Downloading package punkt to\n",
      "[nltk_data]     C:\\Users\\anisha.jha\\AppData\\Roaming\\nltk_data...\n",
      "[nltk_data]   Package punkt is already up-to-date!\n",
      "[nltk_data] Downloading package words to\n",
      "[nltk_data]     C:\\Users\\anisha.jha\\AppData\\Roaming\\nltk_data...\n",
      "[nltk_data]   Package words is already up-to-date!\n"
     ]
    },
    {
     "data": {
      "text/plain": [
       "True"
      ]
     },
     "execution_count": 2,
     "metadata": {},
     "output_type": "execute_result"
    }
   ],
   "source": [
    "import nltk\n",
    "nltk.download('punkt')  # Required for tokenization\n",
    "nltk.download('words')  # Required for dictionary of English words\n"
   ]
  },
  {
   "cell_type": "code",
   "execution_count": 3,
   "id": "216de559",
   "metadata": {},
   "outputs": [],
   "source": [
    "from nltk.corpus import words\n",
    "\n",
    "word_list = words.words()\n"
   ]
  },
  {
   "cell_type": "code",
   "execution_count": 4,
   "id": "11465bb4",
   "metadata": {},
   "outputs": [],
   "source": [
    "from nltk.metrics.distance import edit_distance\n",
    "from nltk.tokenize import word_tokenize\n",
    "\n",
    "def auto_correct(word):\n",
    "    if word in word_list:\n",
    "        return word  # The word is correct\n",
    "\n",
    "    # Tokenize the misspelled word to handle multiple words or punctuation\n",
    "    tokens = word_tokenize(word)\n",
    "\n",
    "    # Initialize a list to store the corrected words\n",
    "    corrected_words = []\n",
    "\n",
    "    for token in tokens:\n",
    "        # Calculate the edit distance between the misspelled word and all the words in the dictionary\n",
    "        distances = [(edit_distance(token, w), w) for w in word_list]\n",
    "\n",
    "        # Sort the distances and get the word with the minimum edit distance\n",
    "        nearest_word = min(distances, key=lambda x: x[0])[1]\n",
    "\n",
    "        corrected_words.append(nearest_word)\n",
    "\n",
    "    return ' '.join(corrected_words)\n"
   ]
  },
  {
   "cell_type": "code",
   "execution_count": 9,
   "id": "dc3b56f1",
   "metadata": {},
   "outputs": [
    {
     "name": "stdout",
     "output_type": "stream",
     "text": [
      "Original word: acress\n",
      "Corrected word: access\n"
     ]
    }
   ],
   "source": [
    "misspelled_word = \"acress\"\n",
    "corrected_word = auto_correct(misspelled_word)\n",
    "print(f\"Original word: {misspelled_word}\")\n",
    "print(f\"Corrected word: {corrected_word}\")\n"
   ]
  },
  {
   "cell_type": "code",
   "execution_count": null,
   "id": "dba33117",
   "metadata": {},
   "outputs": [],
   "source": []
  }
 ],
 "metadata": {
  "kernelspec": {
   "display_name": "Python 3 (ipykernel)",
   "language": "python",
   "name": "python3"
  },
  "language_info": {
   "codemirror_mode": {
    "name": "ipython",
    "version": 3
   },
   "file_extension": ".py",
   "mimetype": "text/x-python",
   "name": "python",
   "nbconvert_exporter": "python",
   "pygments_lexer": "ipython3",
   "version": "3.10.9"
  }
 },
 "nbformat": 4,
 "nbformat_minor": 5
}
